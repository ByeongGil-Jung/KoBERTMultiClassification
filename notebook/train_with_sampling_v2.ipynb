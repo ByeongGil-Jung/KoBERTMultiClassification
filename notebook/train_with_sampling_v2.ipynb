{
 "cells": [
  {
   "cell_type": "code",
   "execution_count": 1,
   "metadata": {},
   "outputs": [],
   "source": [
    "import os\n",
    "import pathlib\n",
    "import sys\n",
    "default_dir_path = str(pathlib.Path(os.getcwd()).parent.absolute())\n",
    "\n",
    "sys.path.append(default_dir_path)"
   ]
  },
  {
   "cell_type": "markdown",
   "metadata": {},
   "source": [
    "## Init"
   ]
  },
  {
   "cell_type": "code",
   "execution_count": 2,
   "metadata": {},
   "outputs": [
    {
     "name": "stderr",
     "output_type": "stream",
     "text": [
      "Global seed set to 777\n"
     ]
    },
    {
     "name": "stdout",
     "output_type": "stream",
     "text": [
      "Set random seed : 777\n"
     ]
    }
   ],
   "source": [
    "from gpu_train import set_random_seed\n",
    "\n",
    "set_random_seed(random_seed=777)"
   ]
  },
  {
   "cell_type": "code",
   "execution_count": 3,
   "metadata": {},
   "outputs": [],
   "source": [
    "from ClassificationModule_weighted_sampling import *\n",
    "from MultiClassification import *\n",
    "import tqdm.notebook as tqdm"
   ]
  },
  {
   "cell_type": "code",
   "execution_count": 4,
   "metadata": {},
   "outputs": [
    {
     "name": "stdout",
     "output_type": "stream",
     "text": [
      "1e-06 0.3 768 3\n"
     ]
    }
   ],
   "source": [
    "model = MultiClassification(\n",
    "    learning_rate=1e-6,\n",
    "    dropout_p=0.3,\n",
    "    hidden_size=768,\n",
    "    num_classes=3\n",
    ")"
   ]
  },
  {
   "cell_type": "code",
   "execution_count": 5,
   "metadata": {},
   "outputs": [],
   "source": [
    "dm = ClassificationDataModule(\n",
    "    batch_size=16,\n",
    "    train_path='../train.tsv',\n",
    "    valid_path='../dev.tsv',\n",
    "    max_length=256, sep='\\t',\n",
    "    doc_col='comments',\n",
    "    label_col='hate',\n",
    "    num_workers=1,\n",
    "    labels_dict={'none' : 0, 'hate' : 1, 'offensive' : 2}\n",
    ")"
   ]
  },
  {
   "cell_type": "code",
   "execution_count": 6,
   "metadata": {},
   "outputs": [],
   "source": [
    "checkpoint_callback = pl.callbacks.ModelCheckpoint(\n",
    "    monitor='val_accuracy',\n",
    "    dirpath='../bert_hate_multi_chpt_sampling_v2',\n",
    "    filename='KoBERT/{epoch:02d}-{val_accuracy:.3f}',\n",
    "    verbose=True,\n",
    "    save_last=True,\n",
    "    mode='max',\n",
    "    save_top_k=-1,\n",
    ")"
   ]
  },
  {
   "cell_type": "code",
   "execution_count": 7,
   "metadata": {},
   "outputs": [],
   "source": [
    "tb_logger = pl_loggers.TensorBoardLogger(os.path.join('../bert_hate_multi_chpt_sampling_v2', 'tb_logs'))\n",
    "lr_logger = pl.callbacks.LearningRateMonitor()"
   ]
  },
  {
   "cell_type": "code",
   "execution_count": 8,
   "metadata": {},
   "outputs": [
    {
     "name": "stderr",
     "output_type": "stream",
     "text": [
      "GPU available: True, used: True\n",
      "TPU available: False, using: 0 TPU cores\n",
      "IPU available: False, using: 0 IPUs\n"
     ]
    }
   ],
   "source": [
    "trainer = pl.Trainer(\n",
    "    default_root_dir='../bert_hate_multi_chpt_sampling_v2/checkpoints',\n",
    "    logger = tb_logger,\n",
    "    callbacks = [checkpoint_callback, lr_logger],\n",
    "    max_epochs=10,\n",
    "    devices=[2],  # Set device numbers\n",
    "    accelerator=\"auto\"\n",
    "    # gpus=1\n",
    ")"
   ]
  },
  {
   "cell_type": "code",
   "execution_count": 9,
   "metadata": {},
   "outputs": [
    {
     "name": "stderr",
     "output_type": "stream",
     "text": [
      "The tokenizer class you load from this checkpoint is not the same type as the class this function is called from. It may result in unexpected tokenization. \n",
      "The tokenizer class you load from this checkpoint is 'XLNetTokenizer'. \n",
      "The class this function is called from is 'KoBERTTokenizer'.\n",
      "The tokenizer class you load from this checkpoint is not the same type as the class this function is called from. It may result in unexpected tokenization. \n",
      "The tokenizer class you load from this checkpoint is 'XLNetTokenizer'. \n",
      "The class this function is called from is 'KoBERTTokenizer'.\n",
      "LOCAL_RANK: 0 - CUDA_VISIBLE_DEVICES: [0,1,2,3,4,5,6,7]\n",
      "\n",
      "  | Name       | Type             | Params\n",
      "------------------------------------------------\n",
      "0 | bert       | BertModel        | 92.2 M\n",
      "1 | dropout    | Dropout          | 0     \n",
      "2 | linear_4   | Linear           | 98.4 K\n",
      "3 | linear_5   | Linear           | 387   \n",
      "4 | metric_acc | Accuracy         | 0     \n",
      "5 | metric_f1  | F1               | 0     \n",
      "6 | metric_rec | Recall           | 0     \n",
      "7 | metric_pre | Precision        | 0     \n",
      "8 | loss_func  | CrossEntropyLoss | 0     \n",
      "------------------------------------------------\n",
      "92.3 M    Trainable params\n",
      "0         Non-trainable params\n",
      "92.3 M    Total params\n",
      "369.143   Total estimated model params size (MB)\n",
      "/opt/conda/lib/python3.7/site-packages/pytorch_lightning/callbacks/model_checkpoint.py:631: UserWarning: Checkpoint directory /workspace/Project/KoBERTMultiClassification/bert_hate_multi_chpt_sampling_v2 exists and is not empty.\n",
      "  rank_zero_warn(f\"Checkpoint directory {dirpath} exists and is not empty.\")\n"
     ]
    },
    {
     "data": {
      "application/vnd.jupyter.widget-view+json": {
       "model_id": "",
       "version_major": 2,
       "version_minor": 0
      },
      "text/plain": [
       "Validation sanity check: 0it [00:00, ?it/s]"
      ]
     },
     "metadata": {},
     "output_type": "display_data"
    },
    {
     "name": "stderr",
     "output_type": "stream",
     "text": [
      "/opt/conda/lib/python3.7/site-packages/pytorch_lightning/trainer/data_loading.py:117: UserWarning: The dataloader, val_dataloader 0, does not have many workers which may be a bottleneck. Consider increasing the value of the `num_workers` argument` (try 48 which is the number of cpus on this machine) in the `DataLoader` init to improve performance.\n",
      "  f\"The dataloader, {name}, does not have many workers which may be a bottleneck.\"\n",
      "Global seed set to 777\n"
     ]
    },
    {
     "name": "stdout",
     "output_type": "stream",
     "text": [
      "val_accuracy : 0.2577381134033203, val_f1 : 0.24731379747390747, val_recall : 0.2577381134033203, val_precision : 0.3379629850387573\n"
     ]
    },
    {
     "name": "stderr",
     "output_type": "stream",
     "text": [
      "/opt/conda/lib/python3.7/site-packages/pytorch_lightning/trainer/data_loading.py:117: UserWarning: The dataloader, train_dataloader, does not have many workers which may be a bottleneck. Consider increasing the value of the `num_workers` argument` (try 48 which is the number of cpus on this machine) in the `DataLoader` init to improve performance.\n",
      "  f\"The dataloader, {name}, does not have many workers which may be a bottleneck.\"\n"
     ]
    },
    {
     "data": {
      "application/vnd.jupyter.widget-view+json": {
       "model_id": "fa598cb54f53402baf3adac00aac2f6e",
       "version_major": 2,
       "version_minor": 0
      },
      "text/plain": [
       "Training: 0it [00:00, ?it/s]"
      ]
     },
     "metadata": {},
     "output_type": "display_data"
    },
    {
     "data": {
      "application/vnd.jupyter.widget-view+json": {
       "model_id": "",
       "version_major": 2,
       "version_minor": 0
      },
      "text/plain": [
       "Validating: 0it [00:00, ?it/s]"
      ]
     },
     "metadata": {},
     "output_type": "display_data"
    },
    {
     "name": "stderr",
     "output_type": "stream",
     "text": [
      "Epoch 0, global step 493: val_accuracy reached 0.37586 (best 0.37586), saving model to \"/workspace/Project/KoBERTMultiClassification/bert_hate_multi_chpt_sampling_v2/KoBERT/epoch=00-val_accuracy=0.376.ckpt\" as top 1\n"
     ]
    },
    {
     "name": "stdout",
     "output_type": "stream",
     "text": [
      "val_accuracy : 0.37714290618896484, val_f1 : 0.34539923071861267, val_recall : 0.37714290618896484, val_precision : 0.3665609061717987\n",
      "tensor([2, 2, 1,  ..., 2, 2, 1], device='cuda:2') tensor([1, 1, 1,  ..., 0, 2, 0], device='cuda:2')\n",
      "torch.Size([7896]) torch.Size([7896])\n",
      "[Epoch 0 TRAIN] Acc: 0.34591448307037354, Prec: 0.34413182735443115, Rec: 0.34591448307037354, F1: 0.3409259617328644\n"
     ]
    },
    {
     "data": {
      "application/vnd.jupyter.widget-view+json": {
       "model_id": "",
       "version_major": 2,
       "version_minor": 0
      },
      "text/plain": [
       "Validating: 0it [00:00, ?it/s]"
      ]
     },
     "metadata": {},
     "output_type": "display_data"
    },
    {
     "name": "stderr",
     "output_type": "stream",
     "text": [
      "Epoch 1, global step 987: val_accuracy reached 0.40188 (best 0.40188), saving model to \"/workspace/Project/KoBERTMultiClassification/bert_hate_multi_chpt_sampling_v2/KoBERT/epoch=01-val_accuracy=0.402.ckpt\" as top 2\n"
     ]
    },
    {
     "name": "stdout",
     "output_type": "stream",
     "text": [
      "val_accuracy : 0.4005952775478363, val_f1 : 0.3076550364494324, val_recall : 0.4005952775478363, val_precision : 0.30139029026031494\n",
      "tensor([0, 1, 1,  ..., 2, 2, 0], device='cuda:2') tensor([1, 2, 0,  ..., 2, 1, 1], device='cuda:2')\n",
      "torch.Size([7896]) torch.Size([7896])\n",
      "[Epoch 1 TRAIN] Acc: 0.38048428297042847, Prec: 0.3837814927101135, Rec: 0.38048428297042847, F1: 0.3809557557106018\n"
     ]
    },
    {
     "data": {
      "application/vnd.jupyter.widget-view+json": {
       "model_id": "",
       "version_major": 2,
       "version_minor": 0
      },
      "text/plain": [
       "Validating: 0it [00:00, ?it/s]"
      ]
     },
     "metadata": {},
     "output_type": "display_data"
    },
    {
     "name": "stderr",
     "output_type": "stream",
     "text": [
      "Epoch 2, global step 1481: val_accuracy reached 0.47536 (best 0.47536), saving model to \"/workspace/Project/KoBERTMultiClassification/bert_hate_multi_chpt_sampling_v2/KoBERT/epoch=02-val_accuracy=0.475.ckpt\" as top 3\n"
     ]
    },
    {
     "name": "stdout",
     "output_type": "stream",
     "text": [
      "val_accuracy : 0.4726940393447876, val_f1 : 0.39259013533592224, val_recall : 0.4726940393447876, val_precision : 0.4308812916278839\n",
      "tensor([2, 1, 1,  ..., 0, 2, 2], device='cuda:2') tensor([1, 1, 0,  ..., 0, 1, 1], device='cuda:2')\n",
      "torch.Size([7896]) torch.Size([7896])\n",
      "[Epoch 2 TRAIN] Acc: 0.4064776301383972, Prec: 0.43054836988449097, Rec: 0.4064776301383972, F1: 0.388752818107605\n"
     ]
    },
    {
     "data": {
      "application/vnd.jupyter.widget-view+json": {
       "model_id": "",
       "version_major": 2,
       "version_minor": 0
      },
      "text/plain": [
       "Validating: 0it [00:00, ?it/s]"
      ]
     },
     "metadata": {},
     "output_type": "display_data"
    },
    {
     "name": "stderr",
     "output_type": "stream",
     "text": [
      "Epoch 3, global step 1975: val_accuracy reached 0.49028 (best 0.49028), saving model to \"/workspace/Project/KoBERTMultiClassification/bert_hate_multi_chpt_sampling_v2/KoBERT/epoch=03-val_accuracy=0.490.ckpt\" as top 4\n"
     ]
    },
    {
     "name": "stdout",
     "output_type": "stream",
     "text": [
      "val_accuracy : 0.48734134435653687, val_f1 : 0.38835906982421875, val_recall : 0.48734134435653687, val_precision : 0.42088061571121216\n",
      "tensor([0, 1, 2,  ..., 1, 2, 1], device='cuda:2') tensor([1, 1, 1,  ..., 1, 2, 1], device='cuda:2')\n",
      "torch.Size([7896]) torch.Size([7896])\n",
      "[Epoch 3 TRAIN] Acc: 0.46170884370803833, Prec: 0.47950732707977295, Rec: 0.46170884370803833, F1: 0.43516844511032104\n"
     ]
    },
    {
     "data": {
      "application/vnd.jupyter.widget-view+json": {
       "model_id": "",
       "version_major": 2,
       "version_minor": 0
      },
      "text/plain": [
       "Validating: 0it [00:00, ?it/s]"
      ]
     },
     "metadata": {},
     "output_type": "display_data"
    },
    {
     "name": "stderr",
     "output_type": "stream",
     "text": [
      "Epoch 4, global step 2469: val_accuracy reached 0.51745 (best 0.51745), saving model to \"/workspace/Project/KoBERTMultiClassification/bert_hate_multi_chpt_sampling_v2/KoBERT/epoch=04-val_accuracy=0.517.ckpt\" as top 5\n"
     ]
    },
    {
     "name": "stdout",
     "output_type": "stream",
     "text": [
      "val_accuracy : 0.5139947533607483, val_f1 : 0.42123398184776306, val_recall : 0.5139947533607483, val_precision : 0.42491909861564636\n",
      "tensor([1, 0, 2,  ..., 1, 0, 1], device='cuda:2') tensor([2, 0, 1,  ..., 1, 1, 1], device='cuda:2')\n",
      "torch.Size([7896]) torch.Size([7896])\n",
      "[Epoch 4 TRAIN] Acc: 0.46607738733291626, Prec: 0.49886900186538696, Rec: 0.46607738733291626, F1: 0.4454866051673889\n"
     ]
    },
    {
     "data": {
      "application/vnd.jupyter.widget-view+json": {
       "model_id": "",
       "version_major": 2,
       "version_minor": 0
      },
      "text/plain": [
       "Validating: 0it [00:00, ?it/s]"
      ]
     },
     "metadata": {},
     "output_type": "display_data"
    },
    {
     "name": "stderr",
     "output_type": "stream",
     "text": [
      "Epoch 5, global step 2963: val_accuracy reached 0.51333 (best 0.51745), saving model to \"/workspace/Project/KoBERTMultiClassification/bert_hate_multi_chpt_sampling_v2/KoBERT/epoch=05-val_accuracy=0.513.ckpt\" as top 6\n"
     ]
    },
    {
     "name": "stdout",
     "output_type": "stream",
     "text": [
      "val_accuracy : 0.5099515318870544, val_f1 : 0.43071895837783813, val_recall : 0.5099515318870544, val_precision : 0.47970858216285706\n",
      "tensor([0, 0, 2,  ..., 2, 0, 2], device='cuda:2') tensor([0, 0, 1,  ..., 0, 0, 1], device='cuda:2')\n",
      "torch.Size([7896]) torch.Size([7896])\n",
      "[Epoch 5 TRAIN] Acc: 0.5076255798339844, Prec: 0.5323060154914856, Rec: 0.5076255798339844, F1: 0.48145753145217896\n"
     ]
    },
    {
     "data": {
      "application/vnd.jupyter.widget-view+json": {
       "model_id": "",
       "version_major": 2,
       "version_minor": 0
      },
      "text/plain": [
       "Validating: 0it [00:00, ?it/s]"
      ]
     },
     "metadata": {},
     "output_type": "display_data"
    },
    {
     "name": "stderr",
     "output_type": "stream",
     "text": [
      "Epoch 6, global step 3457: val_accuracy reached 0.51841 (best 0.51841), saving model to \"/workspace/Project/KoBERTMultiClassification/bert_hate_multi_chpt_sampling_v2/KoBERT/epoch=06-val_accuracy=0.518.ckpt\" as top 7\n"
     ]
    },
    {
     "name": "stdout",
     "output_type": "stream",
     "text": [
      "val_accuracy : 0.5149382948875427, val_f1 : 0.426829993724823, val_recall : 0.5149382948875427, val_precision : 0.45011553168296814\n",
      "tensor([1, 0, 1,  ..., 2, 0, 2], device='cuda:2') tensor([1, 2, 1,  ..., 2, 0, 0], device='cuda:2')\n",
      "torch.Size([7896]) torch.Size([7896])\n",
      "[Epoch 6 TRAIN] Acc: 0.5028877258300781, Prec: 0.5307927131652832, Rec: 0.5028877258300781, F1: 0.4777788519859314\n"
     ]
    },
    {
     "data": {
      "application/vnd.jupyter.widget-view+json": {
       "model_id": "",
       "version_major": 2,
       "version_minor": 0
      },
      "text/plain": [
       "Validating: 0it [00:00, ?it/s]"
      ]
     },
     "metadata": {},
     "output_type": "display_data"
    },
    {
     "name": "stderr",
     "output_type": "stream",
     "text": [
      "Epoch 7, global step 3951: val_accuracy reached 0.52897 (best 0.52897), saving model to \"/workspace/Project/KoBERTMultiClassification/bert_hate_multi_chpt_sampling_v2/KoBERT/epoch=07-val_accuracy=0.529.ckpt\" as top 8\n"
     ]
    },
    {
     "name": "stdout",
     "output_type": "stream",
     "text": [
      "val_accuracy : 0.5253042578697205, val_f1 : 0.4348561763763428, val_recall : 0.5253042578697205, val_precision : 0.45802754163742065\n",
      "tensor([0, 0, 1,  ..., 0, 1, 2], device='cuda:2') tensor([0, 0, 1,  ..., 0, 1, 1], device='cuda:2')\n",
      "torch.Size([7896]) torch.Size([7896])\n",
      "[Epoch 7 TRAIN] Acc: 0.5101049542427063, Prec: 0.5410647392272949, Rec: 0.5101049542427063, F1: 0.4897061288356781\n"
     ]
    },
    {
     "data": {
      "application/vnd.jupyter.widget-view+json": {
       "model_id": "",
       "version_major": 2,
       "version_minor": 0
      },
      "text/plain": [
       "Validating: 0it [00:00, ?it/s]"
      ]
     },
     "metadata": {},
     "output_type": "display_data"
    },
    {
     "name": "stderr",
     "output_type": "stream",
     "text": [
      "Epoch 8, global step 4445: val_accuracy reached 0.53086 (best 0.53086), saving model to \"/workspace/Project/KoBERTMultiClassification/bert_hate_multi_chpt_sampling_v2/KoBERT/epoch=08-val_accuracy=0.531.ckpt\" as top 9\n"
     ]
    },
    {
     "name": "stdout",
     "output_type": "stream",
     "text": [
      "val_accuracy : 0.5271561741828918, val_f1 : 0.4383964240550995, val_recall : 0.5271561741828918, val_precision : 0.4661899209022522\n",
      "tensor([2, 1, 2,  ..., 2, 2, 0], device='cuda:2') tensor([1, 1, 0,  ..., 1, 1, 0], device='cuda:2')\n",
      "torch.Size([7896]) torch.Size([7896])\n",
      "[Epoch 8 TRAIN] Acc: 0.510464072227478, Prec: 0.5420989990234375, Rec: 0.510464072227478, F1: 0.48783013224601746\n"
     ]
    },
    {
     "data": {
      "application/vnd.jupyter.widget-view+json": {
       "model_id": "",
       "version_major": 2,
       "version_minor": 0
      },
      "text/plain": [
       "Validating: 0it [00:00, ?it/s]"
      ]
     },
     "metadata": {},
     "output_type": "display_data"
    },
    {
     "name": "stderr",
     "output_type": "stream",
     "text": [
      "Epoch 9, global step 4939: val_accuracy reached 0.53369 (best 0.53369), saving model to \"/workspace/Project/KoBERTMultiClassification/bert_hate_multi_chpt_sampling_v2/KoBERT/epoch=09-val_accuracy=0.534.ckpt\" as top 10\n"
     ]
    },
    {
     "name": "stdout",
     "output_type": "stream",
     "text": [
      "val_accuracy : 0.5299338698387146, val_f1 : 0.44355592131614685, val_recall : 0.5299338698387146, val_precision : 0.4819246530532837\n",
      "tensor([1, 0, 2,  ..., 2, 1, 2], device='cuda:2') tensor([1, 0, 1,  ..., 2, 1, 1], device='cuda:2')\n",
      "torch.Size([7896]) torch.Size([7896])\n",
      "[Epoch 9 TRAIN] Acc: 0.515347957611084, Prec: 0.5439558029174805, Rec: 0.515347957611084, F1: 0.4911239743232727\n"
     ]
    },
    {
     "name": "stderr",
     "output_type": "stream",
     "text": [
      "Saving latest checkpoint...\n"
     ]
    }
   ],
   "source": [
    "trainer.fit(model, dm)"
   ]
  },
  {
   "cell_type": "code",
   "execution_count": null,
   "metadata": {},
   "outputs": [],
   "source": []
  }
 ],
 "metadata": {
  "kernelspec": {
   "display_name": "Python 3",
   "language": "python",
   "name": "python3"
  },
  "language_info": {
   "codemirror_mode": {
    "name": "ipython",
    "version": 3
   },
   "file_extension": ".py",
   "mimetype": "text/x-python",
   "name": "python",
   "nbconvert_exporter": "python",
   "pygments_lexer": "ipython3",
   "version": "3.7.4"
  }
 },
 "nbformat": 4,
 "nbformat_minor": 4
}
