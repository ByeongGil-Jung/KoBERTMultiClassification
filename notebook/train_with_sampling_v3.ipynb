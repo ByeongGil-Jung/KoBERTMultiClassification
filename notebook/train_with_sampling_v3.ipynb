{
 "cells": [
  {
   "cell_type": "code",
   "execution_count": 1,
   "metadata": {},
   "outputs": [],
   "source": [
    "import os\n",
    "import pathlib\n",
    "import sys\n",
    "default_dir_path = str(pathlib.Path(os.getcwd()).parent.absolute())\n",
    "\n",
    "sys.path.append(default_dir_path)"
   ]
  },
  {
   "cell_type": "markdown",
   "metadata": {},
   "source": [
    "## Init"
   ]
  },
  {
   "cell_type": "code",
   "execution_count": 2,
   "metadata": {},
   "outputs": [
    {
     "name": "stderr",
     "output_type": "stream",
     "text": [
      "Global seed set to 777\n"
     ]
    },
    {
     "name": "stdout",
     "output_type": "stream",
     "text": [
      "Set random seed : 777\n"
     ]
    }
   ],
   "source": [
    "from gpu_train import set_random_seed\n",
    "\n",
    "set_random_seed(random_seed=777)"
   ]
  },
  {
   "cell_type": "code",
   "execution_count": 3,
   "metadata": {},
   "outputs": [],
   "source": [
    "from ClassificationModule_weighted_sampling import *\n",
    "from MultiClassification import *\n",
    "import tqdm.notebook as tqdm"
   ]
  },
  {
   "cell_type": "code",
   "execution_count": 4,
   "metadata": {},
   "outputs": [
    {
     "name": "stdout",
     "output_type": "stream",
     "text": [
      "5e-06 0.3 768 3\n"
     ]
    }
   ],
   "source": [
    "model = MultiClassification(\n",
    "    learning_rate=0.000005,\n",
    "    dropout_p=0.3,\n",
    "    hidden_size=768,\n",
    "    num_classes=3\n",
    ")"
   ]
  },
  {
   "cell_type": "code",
   "execution_count": 5,
   "metadata": {},
   "outputs": [],
   "source": [
    "dm = ClassificationDataModule(\n",
    "    batch_size=16,\n",
    "    train_path='../train.tsv',\n",
    "    valid_path='../dev.tsv',\n",
    "    max_length=256, sep='\\t',\n",
    "    doc_col='comments',\n",
    "    label_col='hate',\n",
    "    num_workers=1,\n",
    "    labels_dict={'none' : 0, 'hate' : 1, 'offensive' : 2}\n",
    ")"
   ]
  },
  {
   "cell_type": "code",
   "execution_count": 6,
   "metadata": {},
   "outputs": [],
   "source": [
    "checkpoint_callback = pl.callbacks.ModelCheckpoint(\n",
    "    monitor='val_accuracy',\n",
    "    dirpath='../bert_hate_multi_chpt_sampling_v3',\n",
    "    filename='KoBERT/{epoch:02d}-{val_accuracy:.3f}',\n",
    "    verbose=True,\n",
    "    save_last=True,\n",
    "    mode='max',\n",
    "    save_top_k=-1,\n",
    ")"
   ]
  },
  {
   "cell_type": "code",
   "execution_count": 7,
   "metadata": {},
   "outputs": [],
   "source": [
    "tb_logger = pl_loggers.TensorBoardLogger(os.path.join('../bert_hate_multi_chpt_sampling_v3', 'tb_logs'))\n",
    "lr_logger = pl.callbacks.LearningRateMonitor()"
   ]
  },
  {
   "cell_type": "code",
   "execution_count": 8,
   "metadata": {},
   "outputs": [
    {
     "name": "stderr",
     "output_type": "stream",
     "text": [
      "GPU available: True, used: True\n",
      "TPU available: False, using: 0 TPU cores\n",
      "IPU available: False, using: 0 IPUs\n"
     ]
    }
   ],
   "source": [
    "trainer = pl.Trainer(\n",
    "    default_root_dir='../bert_hate_multi_chpt_sampling_v3/checkpoints',\n",
    "    logger = tb_logger,\n",
    "    callbacks = [checkpoint_callback, lr_logger],\n",
    "    max_epochs=10,\n",
    "    devices=[3],  # Set device numbers\n",
    "    accelerator=\"auto\"\n",
    "    # gpus=1\n",
    ")"
   ]
  },
  {
   "cell_type": "code",
   "execution_count": 9,
   "metadata": {},
   "outputs": [
    {
     "name": "stderr",
     "output_type": "stream",
     "text": [
      "The tokenizer class you load from this checkpoint is not the same type as the class this function is called from. It may result in unexpected tokenization. \n",
      "The tokenizer class you load from this checkpoint is 'XLNetTokenizer'. \n",
      "The class this function is called from is 'KoBERTTokenizer'.\n",
      "The tokenizer class you load from this checkpoint is not the same type as the class this function is called from. It may result in unexpected tokenization. \n",
      "The tokenizer class you load from this checkpoint is 'XLNetTokenizer'. \n",
      "The class this function is called from is 'KoBERTTokenizer'.\n",
      "LOCAL_RANK: 0 - CUDA_VISIBLE_DEVICES: [0,1,2,3,4,5,6,7]\n",
      "\n",
      "  | Name       | Type             | Params\n",
      "------------------------------------------------\n",
      "0 | bert       | BertModel        | 92.2 M\n",
      "1 | dropout    | Dropout          | 0     \n",
      "2 | linear_4   | Linear           | 98.4 K\n",
      "3 | linear_5   | Linear           | 387   \n",
      "4 | metric_acc | Accuracy         | 0     \n",
      "5 | metric_f1  | F1               | 0     \n",
      "6 | metric_rec | Recall           | 0     \n",
      "7 | metric_pre | Precision        | 0     \n",
      "8 | loss_func  | CrossEntropyLoss | 0     \n",
      "------------------------------------------------\n",
      "92.3 M    Trainable params\n",
      "0         Non-trainable params\n",
      "92.3 M    Total params\n",
      "369.143   Total estimated model params size (MB)\n",
      "/opt/conda/lib/python3.7/site-packages/pytorch_lightning/callbacks/model_checkpoint.py:631: UserWarning: Checkpoint directory /workspace/Project/KoBERTMultiClassification/bert_hate_multi_chpt_sampling_v3 exists and is not empty.\n",
      "  rank_zero_warn(f\"Checkpoint directory {dirpath} exists and is not empty.\")\n"
     ]
    },
    {
     "data": {
      "application/vnd.jupyter.widget-view+json": {
       "model_id": "",
       "version_major": 2,
       "version_minor": 0
      },
      "text/plain": [
       "Validation sanity check: 0it [00:00, ?it/s]"
      ]
     },
     "metadata": {},
     "output_type": "display_data"
    },
    {
     "name": "stderr",
     "output_type": "stream",
     "text": [
      "/opt/conda/lib/python3.7/site-packages/pytorch_lightning/trainer/data_loading.py:117: UserWarning: The dataloader, val_dataloader 0, does not have many workers which may be a bottleneck. Consider increasing the value of the `num_workers` argument` (try 48 which is the number of cpus on this machine) in the `DataLoader` init to improve performance.\n",
      "  f\"The dataloader, {name}, does not have many workers which may be a bottleneck.\"\n",
      "Global seed set to 777\n"
     ]
    },
    {
     "name": "stdout",
     "output_type": "stream",
     "text": [
      "val_accuracy : 0.2577381134033203, val_f1 : 0.24731379747390747, val_recall : 0.2577381134033203, val_precision : 0.3379629850387573\n"
     ]
    },
    {
     "name": "stderr",
     "output_type": "stream",
     "text": [
      "/opt/conda/lib/python3.7/site-packages/pytorch_lightning/trainer/data_loading.py:117: UserWarning: The dataloader, train_dataloader, does not have many workers which may be a bottleneck. Consider increasing the value of the `num_workers` argument` (try 48 which is the number of cpus on this machine) in the `DataLoader` init to improve performance.\n",
      "  f\"The dataloader, {name}, does not have many workers which may be a bottleneck.\"\n"
     ]
    },
    {
     "data": {
      "application/vnd.jupyter.widget-view+json": {
       "model_id": "53b90e13d64e49f2b9af986ed0d21a1d",
       "version_major": 2,
       "version_minor": 0
      },
      "text/plain": [
       "Training: 0it [00:00, ?it/s]"
      ]
     },
     "metadata": {},
     "output_type": "display_data"
    },
    {
     "data": {
      "application/vnd.jupyter.widget-view+json": {
       "model_id": "",
       "version_major": 2,
       "version_minor": 0
      },
      "text/plain": [
       "Validating: 0it [00:00, ?it/s]"
      ]
     },
     "metadata": {},
     "output_type": "display_data"
    },
    {
     "name": "stderr",
     "output_type": "stream",
     "text": [
      "Epoch 0, global step 493: val_accuracy reached 0.51798 (best 0.51798), saving model to \"/workspace/Project/KoBERTMultiClassification/bert_hate_multi_chpt_sampling_v3/KoBERT/epoch=00-val_accuracy=0.518.ckpt\" as top 1\n"
     ]
    },
    {
     "name": "stdout",
     "output_type": "stream",
     "text": [
      "val_accuracy : 0.5145150423049927, val_f1 : 0.421996533870697, val_recall : 0.5145150423049927, val_precision : 0.4288632869720459\n",
      "tensor([2, 2, 1,  ..., 2, 2, 1], device='cuda:3') tensor([1, 1, 1,  ..., 0, 1, 1], device='cuda:3')\n",
      "torch.Size([7896]) torch.Size([7896])\n",
      "[Epoch 0 TRAIN] Acc: 0.406619668006897, Prec: 0.41818052530288696, Rec: 0.406619668006897, F1: 0.4063585102558136\n"
     ]
    },
    {
     "data": {
      "application/vnd.jupyter.widget-view+json": {
       "model_id": "",
       "version_major": 2,
       "version_minor": 0
      },
      "text/plain": [
       "Validating: 0it [00:00, ?it/s]"
      ]
     },
     "metadata": {},
     "output_type": "display_data"
    },
    {
     "name": "stderr",
     "output_type": "stream",
     "text": [
      "Epoch 1, global step 987: val_accuracy reached 0.56254 (best 0.56254), saving model to \"/workspace/Project/KoBERTMultiClassification/bert_hate_multi_chpt_sampling_v3/KoBERT/epoch=01-val_accuracy=0.563.ckpt\" as top 2\n"
     ]
    },
    {
     "name": "stdout",
     "output_type": "stream",
     "text": [
      "val_accuracy : 0.5613713264465332, val_f1 : 0.4795845150947571, val_recall : 0.5613713264465332, val_precision : 0.5210461616516113\n",
      "tensor([0, 1, 1,  ..., 2, 2, 0], device='cuda:3') tensor([0, 1, 1,  ..., 0, 1, 0], device='cuda:3')\n",
      "torch.Size([7896]) torch.Size([7896])\n",
      "[Epoch 1 TRAIN] Acc: 0.5277050137519836, Prec: 0.5506702661514282, Rec: 0.5277050137519836, F1: 0.5068685412406921\n"
     ]
    },
    {
     "data": {
      "application/vnd.jupyter.widget-view+json": {
       "model_id": "",
       "version_major": 2,
       "version_minor": 0
      },
      "text/plain": [
       "Validating: 0it [00:00, ?it/s]"
      ]
     },
     "metadata": {},
     "output_type": "display_data"
    },
    {
     "name": "stderr",
     "output_type": "stream",
     "text": [
      "Epoch 2, global step 1481: val_accuracy reached 0.61284 (best 0.61284), saving model to \"/workspace/Project/KoBERTMultiClassification/bert_hate_multi_chpt_sampling_v3/KoBERT/epoch=02-val_accuracy=0.613.ckpt\" as top 3\n"
     ]
    },
    {
     "name": "stdout",
     "output_type": "stream",
     "text": [
      "val_accuracy : 0.609682559967041, val_f1 : 0.5868220329284668, val_recall : 0.609682559967041, val_precision : 0.6096208095550537\n",
      "tensor([2, 1, 1,  ..., 0, 2, 2], device='cuda:3') tensor([1, 1, 1,  ..., 0, 1, 0], device='cuda:3')\n",
      "torch.Size([7896]) torch.Size([7896])\n",
      "[Epoch 2 TRAIN] Acc: 0.5857129096984863, Prec: 0.6007109880447388, Rec: 0.5857129096984863, F1: 0.5840165615081787\n"
     ]
    },
    {
     "data": {
      "application/vnd.jupyter.widget-view+json": {
       "model_id": "",
       "version_major": 2,
       "version_minor": 0
      },
      "text/plain": [
       "Validating: 0it [00:00, ?it/s]"
      ]
     },
     "metadata": {},
     "output_type": "display_data"
    },
    {
     "name": "stderr",
     "output_type": "stream",
     "text": [
      "Epoch 3, global step 1975: val_accuracy reached 0.60883 (best 0.61284), saving model to \"/workspace/Project/KoBERTMultiClassification/bert_hate_multi_chpt_sampling_v3/KoBERT/epoch=03-val_accuracy=0.609.ckpt\" as top 4\n"
     ]
    },
    {
     "name": "stdout",
     "output_type": "stream",
     "text": [
      "val_accuracy : 0.6088712215423584, val_f1 : 0.5738624334335327, val_recall : 0.6088712215423584, val_precision : 0.617332935333252\n",
      "tensor([0, 1, 2,  ..., 1, 2, 1], device='cuda:3') tensor([2, 1, 1,  ..., 1, 0, 1], device='cuda:3')\n",
      "torch.Size([7896]) torch.Size([7896])\n",
      "[Epoch 3 TRAIN] Acc: 0.6285741329193115, Prec: 0.633663535118103, Rec: 0.6285741329193115, F1: 0.6302915215492249\n"
     ]
    },
    {
     "data": {
      "application/vnd.jupyter.widget-view+json": {
       "model_id": "",
       "version_major": 2,
       "version_minor": 0
      },
      "text/plain": [
       "Validating: 0it [00:00, ?it/s]"
      ]
     },
     "metadata": {},
     "output_type": "display_data"
    },
    {
     "name": "stderr",
     "output_type": "stream",
     "text": [
      "Epoch 4, global step 2469: val_accuracy reached 0.61934 (best 0.61934), saving model to \"/workspace/Project/KoBERTMultiClassification/bert_hate_multi_chpt_sampling_v3/KoBERT/epoch=04-val_accuracy=0.619.ckpt\" as top 5\n"
     ]
    },
    {
     "name": "stdout",
     "output_type": "stream",
     "text": [
      "val_accuracy : 0.6160626411437988, val_f1 : 0.5817785859107971, val_recall : 0.6160626411437988, val_precision : 0.6221601963043213\n",
      "tensor([1, 0, 2,  ..., 1, 0, 1], device='cuda:3') tensor([2, 0, 2,  ..., 1, 2, 1], device='cuda:3')\n",
      "torch.Size([7896]) torch.Size([7896])\n",
      "[Epoch 4 TRAIN] Acc: 0.6684948205947876, Prec: 0.6702759265899658, Rec: 0.6684948205947876, F1: 0.6690022945404053\n"
     ]
    },
    {
     "data": {
      "application/vnd.jupyter.widget-view+json": {
       "model_id": "",
       "version_major": 2,
       "version_minor": 0
      },
      "text/plain": [
       "Validating: 0it [00:00, ?it/s]"
      ]
     },
     "metadata": {},
     "output_type": "display_data"
    },
    {
     "name": "stderr",
     "output_type": "stream",
     "text": [
      "Epoch 5, global step 2963: val_accuracy reached 0.62794 (best 0.62794), saving model to \"/workspace/Project/KoBERTMultiClassification/bert_hate_multi_chpt_sampling_v3/KoBERT/epoch=05-val_accuracy=0.628.ckpt\" as top 6\n"
     ]
    },
    {
     "name": "stdout",
     "output_type": "stream",
     "text": [
      "val_accuracy : 0.6265785694122314, val_f1 : 0.60480135679245, val_recall : 0.6265785694122314, val_precision : 0.6294136643409729\n",
      "tensor([0, 0, 2,  ..., 2, 0, 2], device='cuda:3') tensor([0, 2, 2,  ..., 0, 0, 1], device='cuda:3')\n",
      "torch.Size([7896]) torch.Size([7896])\n",
      "[Epoch 5 TRAIN] Acc: 0.7041569948196411, Prec: 0.7058539986610413, Rec: 0.7041569948196411, F1: 0.7044910192489624\n"
     ]
    },
    {
     "data": {
      "application/vnd.jupyter.widget-view+json": {
       "model_id": "",
       "version_major": 2,
       "version_minor": 0
      },
      "text/plain": [
       "Validating: 0it [00:00, ?it/s]"
      ]
     },
     "metadata": {},
     "output_type": "display_data"
    },
    {
     "name": "stderr",
     "output_type": "stream",
     "text": [
      "Epoch 6, global step 3457: val_accuracy reached 0.62399 (best 0.62794), saving model to \"/workspace/Project/KoBERTMultiClassification/bert_hate_multi_chpt_sampling_v3/KoBERT/epoch=06-val_accuracy=0.624.ckpt\" as top 7\n"
     ]
    },
    {
     "name": "stdout",
     "output_type": "stream",
     "text": [
      "val_accuracy : 0.6206261515617371, val_f1 : 0.5879213809967041, val_recall : 0.6206261515617371, val_precision : 0.6282035112380981\n",
      "tensor([1, 0, 1,  ..., 2, 0, 2], device='cuda:3') tensor([1, 2, 1,  ..., 2, 0, 2], device='cuda:3')\n",
      "torch.Size([7896]) torch.Size([7896])\n",
      "[Epoch 6 TRAIN] Acc: 0.7202260494232178, Prec: 0.7191121578216553, Rec: 0.7202260494232178, F1: 0.7192826271057129\n"
     ]
    },
    {
     "data": {
      "application/vnd.jupyter.widget-view+json": {
       "model_id": "",
       "version_major": 2,
       "version_minor": 0
      },
      "text/plain": [
       "Validating: 0it [00:00, ?it/s]"
      ]
     },
     "metadata": {},
     "output_type": "display_data"
    },
    {
     "name": "stderr",
     "output_type": "stream",
     "text": [
      "Epoch 7, global step 3951: val_accuracy reached 0.61629 (best 0.62794), saving model to \"/workspace/Project/KoBERTMultiClassification/bert_hate_multi_chpt_sampling_v3/KoBERT/epoch=07-val_accuracy=0.616.ckpt\" as top 8\n"
     ]
    },
    {
     "name": "stdout",
     "output_type": "stream",
     "text": [
      "val_accuracy : 0.615149974822998, val_f1 : 0.5875024199485779, val_recall : 0.615149974822998, val_precision : 0.630993664264679\n",
      "tensor([0, 0, 1,  ..., 0, 1, 2], device='cuda:3') tensor([0, 0, 1,  ..., 2, 1, 2], device='cuda:3')\n",
      "torch.Size([7896]) torch.Size([7896])\n",
      "[Epoch 7 TRAIN] Acc: 0.7405615448951721, Prec: 0.7417612671852112, Rec: 0.7405615448951721, F1: 0.7407695651054382\n"
     ]
    },
    {
     "data": {
      "application/vnd.jupyter.widget-view+json": {
       "model_id": "",
       "version_major": 2,
       "version_minor": 0
      },
      "text/plain": [
       "Validating: 0it [00:00, ?it/s]"
      ]
     },
     "metadata": {},
     "output_type": "display_data"
    },
    {
     "name": "stderr",
     "output_type": "stream",
     "text": [
      "Epoch 8, global step 4445: val_accuracy reached 0.64098 (best 0.64098), saving model to \"/workspace/Project/KoBERTMultiClassification/bert_hate_multi_chpt_sampling_v3/KoBERT/epoch=08-val_accuracy=0.641.ckpt\" as top 9\n"
     ]
    },
    {
     "name": "stdout",
     "output_type": "stream",
     "text": [
      "val_accuracy : 0.6393783688545227, val_f1 : 0.6006655693054199, val_recall : 0.6393783688545227, val_precision : 0.6295899748802185\n",
      "tensor([2, 1, 2,  ..., 2, 2, 0], device='cuda:3') tensor([2, 1, 0,  ..., 2, 0, 0], device='cuda:3')\n",
      "torch.Size([7896]) torch.Size([7896])\n",
      "[Epoch 8 TRAIN] Acc: 0.7570305466651917, Prec: 0.7584936618804932, Rec: 0.7570305466651917, F1: 0.7572284936904907\n"
     ]
    },
    {
     "data": {
      "application/vnd.jupyter.widget-view+json": {
       "model_id": "",
       "version_major": 2,
       "version_minor": 0
      },
      "text/plain": [
       "Validating: 0it [00:00, ?it/s]"
      ]
     },
     "metadata": {},
     "output_type": "display_data"
    },
    {
     "name": "stderr",
     "output_type": "stream",
     "text": [
      "Epoch 9, global step 4939: val_accuracy reached 0.63842 (best 0.64098), saving model to \"/workspace/Project/KoBERTMultiClassification/bert_hate_multi_chpt_sampling_v3/KoBERT/epoch=09-val_accuracy=0.638.ckpt\" as top 10\n"
     ]
    },
    {
     "name": "stdout",
     "output_type": "stream",
     "text": [
      "val_accuracy : 0.6347795724868774, val_f1 : 0.5960100889205933, val_recall : 0.6347795724868774, val_precision : 0.6307820677757263\n",
      "tensor([1, 0, 2,  ..., 2, 1, 2], device='cuda:3') tensor([1, 0, 2,  ..., 2, 1, 2], device='cuda:3')\n",
      "torch.Size([7896]) torch.Size([7896])\n",
      "[Epoch 9 TRAIN] Acc: 0.7541650533676147, Prec: 0.7555102705955505, Rec: 0.7541650533676147, F1: 0.7544154524803162\n"
     ]
    },
    {
     "name": "stderr",
     "output_type": "stream",
     "text": [
      "Saving latest checkpoint...\n"
     ]
    }
   ],
   "source": [
    "trainer.fit(model, dm)"
   ]
  },
  {
   "cell_type": "code",
   "execution_count": null,
   "metadata": {},
   "outputs": [],
   "source": []
  }
 ],
 "metadata": {
  "kernelspec": {
   "display_name": "Python 3",
   "language": "python",
   "name": "python3"
  },
  "language_info": {
   "codemirror_mode": {
    "name": "ipython",
    "version": 3
   },
   "file_extension": ".py",
   "mimetype": "text/x-python",
   "name": "python",
   "nbconvert_exporter": "python",
   "pygments_lexer": "ipython3",
   "version": "3.7.4"
  }
 },
 "nbformat": 4,
 "nbformat_minor": 4
}
